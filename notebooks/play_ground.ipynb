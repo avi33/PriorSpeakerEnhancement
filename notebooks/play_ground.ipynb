{
 "cells": [
  {
   "cell_type": "code",
   "execution_count": 1,
   "metadata": {},
   "outputs": [],
   "source": [
    "import soundfile as sf\n",
    "import numpy as np\n",
    "import torch\n",
    "import torchaudio\n",
    "import matplotlib.pyplot as plt"
   ]
  },
  {
   "cell_type": "code",
   "execution_count": 46,
   "metadata": {},
   "outputs": [],
   "source": [
    "import torch\n",
    "import torch.fft as fft\n",
    "\n",
    "def hilbert_transform(signal):\n",
    "    # Compute the FFT of the signal\n",
    "    fft_result = fft.fft(signal)\n",
    "\n",
    "    # Create a frequency vector\n",
    "    n = signal.shape[-1]\n",
    "    freq_vector = torch.fft.fftfreq(n, d=1.0)\n",
    "\n",
    "    # Generate the Hilbert kernel\n",
    "    hilbert_kernel = torch.zeros_like(freq_vector)\n",
    "    hilbert_kernel[1:n//2] = -1j  # Positive frequencies\n",
    "    hilbert_kernel[n//2+1:] = 1j   # Negative frequencies\n",
    "\n",
    "    # Apply the Hilbert kernel in the frequency domain\n",
    "    hilbert_result_freq = fft_result * hilbert_kernel\n",
    "\n",
    "    # Compute the inverse FFT to obtain the Hilbert Transform\n",
    "    hilbert_result = fft.ifft(hilbert_result_freq)\n",
    "\n",
    "    # Return the complex-valued analytic signal\n",
    "    return hilbert_result\n",
    "\n",
    "def est_finst(X):\n",
    "    n_fft = (X.shape[0]-1)*2\n",
    "    k = torch.arange(0, X.shape[0], 1).view(-1, 1)\n",
    "    W = torch.exp(-1j*2*torch.pi*k/n_fft)\n",
    "    Z = X[:, :-1] * torch.conj(X[:, 1:]) * W\n",
    "    f_inst = Z.I()\n",
    "    return f_inst\n",
    "\n",
    "def est_groupdelay(x, fs):\n",
    "    n = torch.arange(0, x.shape[-1], 1) / fs\n",
    "    X = torch.stft(x, 512, 128, 512, return_complex=True)\n",
    "    Y = torch.stft(x*n, 512, 128, 512, return_complex=True)\n",
    "    gd = (X.real * Y.real + X.imag * Y.imag) / X.abs()    \n",
    "    return gd"
   ]
  },
  {
   "cell_type": "code",
   "execution_count": 35,
   "metadata": {},
   "outputs": [],
   "source": [
    "fname = r'/media/avi/54561652561635681/datasets/ARCTIC/cmu_us_aew_arctic/wav/arctic_a0004.wav'\n",
    "x, fs = sf.read(fname)\n",
    "x = torch.from_numpy(x)\n",
    "X = torch.stft(x, 512, 32, 512, return_complex=True)"
   ]
  },
  {
   "cell_type": "code",
   "execution_count": 36,
   "metadata": {},
   "outputs": [
    {
     "ename": "ValueError",
     "evalue": "not enough values to unpack (expected 2, got 1)",
     "output_type": "error",
     "traceback": [
      "\u001b[0;31m---------------------------------------------------------------------------\u001b[0m",
      "\u001b[0;31mValueError\u001b[0m                                Traceback (most recent call last)",
      "\u001b[1;32m/media/avi/54561652561635681/projects/PriorSpeakerEnhancement/notebooks/play_ground.ipynb Cell 4\u001b[0m line \u001b[0;36m2\n\u001b[1;32m      <a href='vscode-notebook-cell:/media/avi/54561652561635681/projects/PriorSpeakerEnhancement/notebooks/play_ground.ipynb#W3sZmlsZQ%3D%3D?line=0'>1</a>\u001b[0m gd \u001b[39m=\u001b[39m hilbert_transform(x)\n\u001b[0;32m----> <a href='vscode-notebook-cell:/media/avi/54561652561635681/projects/PriorSpeakerEnhancement/notebooks/play_ground.ipynb#W3sZmlsZQ%3D%3D?line=1'>2</a>\u001b[0m plt\u001b[39m.\u001b[39;49mpcolor(gd\u001b[39m.\u001b[39;49mabs())\n\u001b[1;32m      <a href='vscode-notebook-cell:/media/avi/54561652561635681/projects/PriorSpeakerEnhancement/notebooks/play_ground.ipynb#W3sZmlsZQ%3D%3D?line=2'>3</a>\u001b[0m plt\u001b[39m.\u001b[39mshow()\n",
      "File \u001b[0;32m/media/avi/54561652561635681/projects/venv-audio/lib/python3.8/site-packages/matplotlib/pyplot.py:2759\u001b[0m, in \u001b[0;36mpcolor\u001b[0;34m(shading, alpha, norm, cmap, vmin, vmax, data, *args, **kwargs)\u001b[0m\n\u001b[1;32m   2755\u001b[0m \u001b[39m@_copy_docstring_and_deprecators\u001b[39m(Axes\u001b[39m.\u001b[39mpcolor)\n\u001b[1;32m   2756\u001b[0m \u001b[39mdef\u001b[39;00m \u001b[39mpcolor\u001b[39m(\n\u001b[1;32m   2757\u001b[0m         \u001b[39m*\u001b[39margs, shading\u001b[39m=\u001b[39m\u001b[39mNone\u001b[39;00m, alpha\u001b[39m=\u001b[39m\u001b[39mNone\u001b[39;00m, norm\u001b[39m=\u001b[39m\u001b[39mNone\u001b[39;00m, cmap\u001b[39m=\u001b[39m\u001b[39mNone\u001b[39;00m,\n\u001b[1;32m   2758\u001b[0m         vmin\u001b[39m=\u001b[39m\u001b[39mNone\u001b[39;00m, vmax\u001b[39m=\u001b[39m\u001b[39mNone\u001b[39;00m, data\u001b[39m=\u001b[39m\u001b[39mNone\u001b[39;00m, \u001b[39m*\u001b[39m\u001b[39m*\u001b[39mkwargs):\n\u001b[0;32m-> 2759\u001b[0m     __ret \u001b[39m=\u001b[39m gca()\u001b[39m.\u001b[39;49mpcolor(\n\u001b[1;32m   2760\u001b[0m         \u001b[39m*\u001b[39;49margs, shading\u001b[39m=\u001b[39;49mshading, alpha\u001b[39m=\u001b[39;49malpha, norm\u001b[39m=\u001b[39;49mnorm, cmap\u001b[39m=\u001b[39;49mcmap,\n\u001b[1;32m   2761\u001b[0m         vmin\u001b[39m=\u001b[39;49mvmin, vmax\u001b[39m=\u001b[39;49mvmax,\n\u001b[1;32m   2762\u001b[0m         \u001b[39m*\u001b[39;49m\u001b[39m*\u001b[39;49m({\u001b[39m\"\u001b[39;49m\u001b[39mdata\u001b[39;49m\u001b[39m\"\u001b[39;49m: data} \u001b[39mif\u001b[39;49;00m data \u001b[39mis\u001b[39;49;00m \u001b[39mnot\u001b[39;49;00m \u001b[39mNone\u001b[39;49;00m \u001b[39melse\u001b[39;49;00m {}), \u001b[39m*\u001b[39;49m\u001b[39m*\u001b[39;49mkwargs)\n\u001b[1;32m   2763\u001b[0m     sci(__ret)\n\u001b[1;32m   2764\u001b[0m     \u001b[39mreturn\u001b[39;00m __ret\n",
      "File \u001b[0;32m/media/avi/54561652561635681/projects/venv-audio/lib/python3.8/site-packages/matplotlib/__init__.py:1446\u001b[0m, in \u001b[0;36m_preprocess_data.<locals>.inner\u001b[0;34m(ax, data, *args, **kwargs)\u001b[0m\n\u001b[1;32m   1443\u001b[0m \u001b[39m@functools\u001b[39m\u001b[39m.\u001b[39mwraps(func)\n\u001b[1;32m   1444\u001b[0m \u001b[39mdef\u001b[39;00m \u001b[39minner\u001b[39m(ax, \u001b[39m*\u001b[39margs, data\u001b[39m=\u001b[39m\u001b[39mNone\u001b[39;00m, \u001b[39m*\u001b[39m\u001b[39m*\u001b[39mkwargs):\n\u001b[1;32m   1445\u001b[0m     \u001b[39mif\u001b[39;00m data \u001b[39mis\u001b[39;00m \u001b[39mNone\u001b[39;00m:\n\u001b[0;32m-> 1446\u001b[0m         \u001b[39mreturn\u001b[39;00m func(ax, \u001b[39m*\u001b[39;49m\u001b[39mmap\u001b[39;49m(sanitize_sequence, args), \u001b[39m*\u001b[39;49m\u001b[39m*\u001b[39;49mkwargs)\n\u001b[1;32m   1448\u001b[0m     bound \u001b[39m=\u001b[39m new_sig\u001b[39m.\u001b[39mbind(ax, \u001b[39m*\u001b[39margs, \u001b[39m*\u001b[39m\u001b[39m*\u001b[39mkwargs)\n\u001b[1;32m   1449\u001b[0m     auto_label \u001b[39m=\u001b[39m (bound\u001b[39m.\u001b[39marguments\u001b[39m.\u001b[39mget(label_namer)\n\u001b[1;32m   1450\u001b[0m                   \u001b[39mor\u001b[39;00m bound\u001b[39m.\u001b[39mkwargs\u001b[39m.\u001b[39mget(label_namer))\n",
      "File \u001b[0;32m/media/avi/54561652561635681/projects/venv-audio/lib/python3.8/site-packages/matplotlib/axes/_axes.py:5944\u001b[0m, in \u001b[0;36mAxes.pcolor\u001b[0;34m(self, shading, alpha, norm, cmap, vmin, vmax, *args, **kwargs)\u001b[0m\n\u001b[1;32m   5942\u001b[0m     shading \u001b[39m=\u001b[39m mpl\u001b[39m.\u001b[39mrcParams[\u001b[39m'\u001b[39m\u001b[39mpcolor.shading\u001b[39m\u001b[39m'\u001b[39m]\n\u001b[1;32m   5943\u001b[0m shading \u001b[39m=\u001b[39m shading\u001b[39m.\u001b[39mlower()\n\u001b[0;32m-> 5944\u001b[0m X, Y, C, shading \u001b[39m=\u001b[39m \u001b[39mself\u001b[39;49m\u001b[39m.\u001b[39;49m_pcolorargs(\u001b[39m'\u001b[39;49m\u001b[39mpcolor\u001b[39;49m\u001b[39m'\u001b[39;49m, \u001b[39m*\u001b[39;49margs, shading\u001b[39m=\u001b[39;49mshading,\n\u001b[1;32m   5945\u001b[0m                                     kwargs\u001b[39m=\u001b[39;49mkwargs)\n\u001b[1;32m   5946\u001b[0m Ny, Nx \u001b[39m=\u001b[39m X\u001b[39m.\u001b[39mshape\n\u001b[1;32m   5948\u001b[0m \u001b[39m# convert to MA, if necessary.\u001b[39;00m\n",
      "File \u001b[0;32m/media/avi/54561652561635681/projects/venv-audio/lib/python3.8/site-packages/matplotlib/axes/_axes.py:5696\u001b[0m, in \u001b[0;36mAxes._pcolorargs\u001b[0;34m(self, funcname, shading, *args, **kwargs)\u001b[0m\n\u001b[1;32m   5694\u001b[0m \u001b[39mif\u001b[39;00m \u001b[39mlen\u001b[39m(args) \u001b[39m==\u001b[39m \u001b[39m1\u001b[39m:\n\u001b[1;32m   5695\u001b[0m     C \u001b[39m=\u001b[39m np\u001b[39m.\u001b[39masanyarray(args[\u001b[39m0\u001b[39m])\n\u001b[0;32m-> 5696\u001b[0m     nrows, ncols \u001b[39m=\u001b[39m C\u001b[39m.\u001b[39mshape[:\u001b[39m2\u001b[39m]\n\u001b[1;32m   5697\u001b[0m     \u001b[39mif\u001b[39;00m shading \u001b[39min\u001b[39;00m [\u001b[39m'\u001b[39m\u001b[39mgouraud\u001b[39m\u001b[39m'\u001b[39m, \u001b[39m'\u001b[39m\u001b[39mnearest\u001b[39m\u001b[39m'\u001b[39m]:\n\u001b[1;32m   5698\u001b[0m         X, Y \u001b[39m=\u001b[39m np\u001b[39m.\u001b[39mmeshgrid(np\u001b[39m.\u001b[39marange(ncols), np\u001b[39m.\u001b[39marange(nrows))\n",
      "\u001b[0;31mValueError\u001b[0m: not enough values to unpack (expected 2, got 1)"
     ]
    },
    {
     "data": {
      "image/png": "[encoded data removed]",
      "text/plain": [
       "<Figure size 640x480 with 1 Axes>"
      ]
     },
     "metadata": {},
     "output_type": "display_data"
    }
   ],
   "source": [
    "gd = hilbert_transform(x)\n",
    "plt.pcolor(gd.abs())\n",
    "plt.show()"
   ]
  },
  {
   "cell_type": "code",
   "execution_count": 48,
   "metadata": {},
   "outputs": [
    {
     "name": "stdout",
     "output_type": "stream",
     "text": [
      "torch.Size([101])\n"
     ]
    },
    {
     "ename": "RuntimeError",
     "evalue": "value cannot be converted to type float without overflow",
     "output_type": "error",
     "traceback": [
      "\u001b[0;31m---------------------------------------------------------------------------\u001b[0m",
      "\u001b[0;31mRuntimeError\u001b[0m                              Traceback (most recent call last)",
      "\u001b[1;32m/media/avi/54561652561635681/projects/PriorSpeakerEnhancement/notebooks/play_ground.ipynb Cell 5\u001b[0m line \u001b[0;36m5\n\u001b[1;32m      <a href='vscode-notebook-cell:/media/avi/54561652561635681/projects/PriorSpeakerEnhancement/notebooks/play_ground.ipynb#X13sZmlsZQ%3D%3D?line=2'>3</a>\u001b[0m f \u001b[39m=\u001b[39m \u001b[39m10\u001b[39m\n\u001b[1;32m      <a href='vscode-notebook-cell:/media/avi/54561652561635681/projects/PriorSpeakerEnhancement/notebooks/play_ground.ipynb#X13sZmlsZQ%3D%3D?line=3'>4</a>\u001b[0m x \u001b[39m=\u001b[39m torch\u001b[39m.\u001b[39msin(\u001b[39m2\u001b[39m\u001b[39m*\u001b[39mnp\u001b[39m.\u001b[39mpi\u001b[39m*\u001b[39mf\u001b[39m*\u001b[39mt)\n\u001b[0;32m----> <a href='vscode-notebook-cell:/media/avi/54561652561635681/projects/PriorSpeakerEnhancement/notebooks/play_ground.ipynb#X13sZmlsZQ%3D%3D?line=4'>5</a>\u001b[0m X \u001b[39m=\u001b[39m hilbert_transform(x)\n\u001b[1;32m      <a href='vscode-notebook-cell:/media/avi/54561652561635681/projects/PriorSpeakerEnhancement/notebooks/play_ground.ipynb#X13sZmlsZQ%3D%3D?line=5'>6</a>\u001b[0m \u001b[39mimport\u001b[39;00m \u001b[39mscipy\u001b[39;00m\u001b[39m.\u001b[39;00m\u001b[39msignal\u001b[39;00m \u001b[39mas\u001b[39;00m \u001b[39mss\u001b[39;00m\n\u001b[1;32m      <a href='vscode-notebook-cell:/media/avi/54561652561635681/projects/PriorSpeakerEnhancement/notebooks/play_ground.ipynb#X13sZmlsZQ%3D%3D?line=6'>7</a>\u001b[0m Xs \u001b[39m=\u001b[39m torch\u001b[39m.\u001b[39mfrom_numpy(ss\u001b[39m.\u001b[39mhilbert(x\u001b[39m.\u001b[39mnumpy()))\n",
      "\u001b[1;32m/media/avi/54561652561635681/projects/PriorSpeakerEnhancement/notebooks/play_ground.ipynb Cell 5\u001b[0m line \u001b[0;36m1\n\u001b[1;32m     <a href='vscode-notebook-cell:/media/avi/54561652561635681/projects/PriorSpeakerEnhancement/notebooks/play_ground.ipynb#X13sZmlsZQ%3D%3D?line=11'>12</a>\u001b[0m \u001b[39m# Generate the Hilbert kernel\u001b[39;00m\n\u001b[1;32m     <a href='vscode-notebook-cell:/media/avi/54561652561635681/projects/PriorSpeakerEnhancement/notebooks/play_ground.ipynb#X13sZmlsZQ%3D%3D?line=12'>13</a>\u001b[0m hilbert_kernel \u001b[39m=\u001b[39m torch\u001b[39m.\u001b[39mzeros_like(freq_vector)\n\u001b[0;32m---> <a href='vscode-notebook-cell:/media/avi/54561652561635681/projects/PriorSpeakerEnhancement/notebooks/play_ground.ipynb#X13sZmlsZQ%3D%3D?line=13'>14</a>\u001b[0m hilbert_kernel[\u001b[39m1\u001b[39;49m:n\u001b[39m/\u001b[39;49m\u001b[39m/\u001b[39;49m\u001b[39m2\u001b[39;49m] \u001b[39m=\u001b[39m \u001b[39m-\u001b[39m\u001b[39m1\u001b[39mj  \u001b[39m# Positive frequencies\u001b[39;00m\n\u001b[1;32m     <a href='vscode-notebook-cell:/media/avi/54561652561635681/projects/PriorSpeakerEnhancement/notebooks/play_ground.ipynb#X13sZmlsZQ%3D%3D?line=14'>15</a>\u001b[0m hilbert_kernel[n\u001b[39m/\u001b[39m\u001b[39m/\u001b[39m\u001b[39m2\u001b[39m\u001b[39m+\u001b[39m\u001b[39m1\u001b[39m:] \u001b[39m=\u001b[39m \u001b[39m1\u001b[39mj   \u001b[39m# Negative frequencies\u001b[39;00m\n\u001b[1;32m     <a href='vscode-notebook-cell:/media/avi/54561652561635681/projects/PriorSpeakerEnhancement/notebooks/play_ground.ipynb#X13sZmlsZQ%3D%3D?line=16'>17</a>\u001b[0m \u001b[39m# Apply the Hilbert kernel in the frequency domain\u001b[39;00m\n",
      "\u001b[0;31mRuntimeError\u001b[0m: value cannot be converted to type float without overflow"
     ]
    }
   ],
   "source": [
    "t = torch.arange(0, 1+1/100, 1/100)\n",
    "print(t.shape)\n",
    "f = 10\n",
    "x = torch.sin(2*np.pi*f*t)\n",
    "X = hilbert_transform(x)\n",
    "import scipy.signal as ss\n",
    "Xs = torch.from_numpy(ss.hilbert(x.numpy()))\n",
    "X-Xs"
   ]
  },
  {
   "cell_type": "code",
   "execution_count": 49,
   "metadata": {},
   "outputs": [
    {
     "ename": "RuntimeError",
     "evalue": "value cannot be converted to type float without overflow",
     "output_type": "error",
     "traceback": [
      "\u001b[0;31m---------------------------------------------------------------------------\u001b[0m",
      "\u001b[0;31mRuntimeError\u001b[0m                              Traceback (most recent call last)",
      "\u001b[1;32m/media/avi/54561652561635681/projects/PriorSpeakerEnhancement/notebooks/play_ground.ipynb Cell 6\u001b[0m line \u001b[0;36m6\n\u001b[1;32m      <a href='vscode-notebook-cell:/media/avi/54561652561635681/projects/PriorSpeakerEnhancement/notebooks/play_ground.ipynb#X14sZmlsZQ%3D%3D?line=3'>4</a>\u001b[0m \u001b[39m# Assuming input_signal is a numpy array\u001b[39;00m\n\u001b[1;32m      <a href='vscode-notebook-cell:/media/avi/54561652561635681/projects/PriorSpeakerEnhancement/notebooks/play_ground.ipynb#X14sZmlsZQ%3D%3D?line=4'>5</a>\u001b[0m input_signal \u001b[39m=\u001b[39m np\u001b[39m.\u001b[39marray([\u001b[39m1.0\u001b[39m, \u001b[39m2.0\u001b[39m, \u001b[39m3.0\u001b[39m, \u001b[39m4.0\u001b[39m, \u001b[39m5.0\u001b[39m], dtype\u001b[39m=\u001b[39mnp\u001b[39m.\u001b[39mfloat32)\n\u001b[0;32m----> <a href='vscode-notebook-cell:/media/avi/54561652561635681/projects/PriorSpeakerEnhancement/notebooks/play_ground.ipynb#X14sZmlsZQ%3D%3D?line=5'>6</a>\u001b[0m hilbert_result \u001b[39m=\u001b[39m hilbert_transform(torch\u001b[39m.\u001b[39;49mfrom_numpy(input_signal))\n\u001b[1;32m      <a href='vscode-notebook-cell:/media/avi/54561652561635681/projects/PriorSpeakerEnhancement/notebooks/play_ground.ipynb#X14sZmlsZQ%3D%3D?line=6'>7</a>\u001b[0m hilbert_result2 \u001b[39m=\u001b[39m hilbert(input_signal)\n\u001b[1;32m      <a href='vscode-notebook-cell:/media/avi/54561652561635681/projects/PriorSpeakerEnhancement/notebooks/play_ground.ipynb#X14sZmlsZQ%3D%3D?line=8'>9</a>\u001b[0m \u001b[39mprint\u001b[39m(\u001b[39m\"\u001b[39m\u001b[39mInput Signal:\u001b[39m\u001b[39m\"\u001b[39m, input_signal)\n",
      "\u001b[1;32m/media/avi/54561652561635681/projects/PriorSpeakerEnhancement/notebooks/play_ground.ipynb Cell 6\u001b[0m line \u001b[0;36m1\n\u001b[1;32m     <a href='vscode-notebook-cell:/media/avi/54561652561635681/projects/PriorSpeakerEnhancement/notebooks/play_ground.ipynb#X14sZmlsZQ%3D%3D?line=11'>12</a>\u001b[0m \u001b[39m# Generate the Hilbert kernel\u001b[39;00m\n\u001b[1;32m     <a href='vscode-notebook-cell:/media/avi/54561652561635681/projects/PriorSpeakerEnhancement/notebooks/play_ground.ipynb#X14sZmlsZQ%3D%3D?line=12'>13</a>\u001b[0m hilbert_kernel \u001b[39m=\u001b[39m torch\u001b[39m.\u001b[39mzeros_like(freq_vector)\n\u001b[0;32m---> <a href='vscode-notebook-cell:/media/avi/54561652561635681/projects/PriorSpeakerEnhancement/notebooks/play_ground.ipynb#X14sZmlsZQ%3D%3D?line=13'>14</a>\u001b[0m hilbert_kernel[\u001b[39m1\u001b[39;49m:n\u001b[39m/\u001b[39;49m\u001b[39m/\u001b[39;49m\u001b[39m2\u001b[39;49m] \u001b[39m=\u001b[39m \u001b[39m-\u001b[39m\u001b[39m1\u001b[39mj  \u001b[39m# Positive frequencies\u001b[39;00m\n\u001b[1;32m     <a href='vscode-notebook-cell:/media/avi/54561652561635681/projects/PriorSpeakerEnhancement/notebooks/play_ground.ipynb#X14sZmlsZQ%3D%3D?line=14'>15</a>\u001b[0m hilbert_kernel[n\u001b[39m/\u001b[39m\u001b[39m/\u001b[39m\u001b[39m2\u001b[39m\u001b[39m+\u001b[39m\u001b[39m1\u001b[39m:] \u001b[39m=\u001b[39m \u001b[39m1\u001b[39mj   \u001b[39m# Negative frequencies\u001b[39;00m\n\u001b[1;32m     <a href='vscode-notebook-cell:/media/avi/54561652561635681/projects/PriorSpeakerEnhancement/notebooks/play_ground.ipynb#X14sZmlsZQ%3D%3D?line=16'>17</a>\u001b[0m \u001b[39m# Apply the Hilbert kernel in the frequency domain\u001b[39;00m\n",
      "\u001b[0;31mRuntimeError\u001b[0m: value cannot be converted to type float without overflow"
     ]
    }
   ],
   "source": [
    "import numpy as np\n",
    "from scipy.signal import hilbert\n",
    "\n",
    "# Assuming input_signal is a numpy array\n",
    "input_signal = np.array([1.0, 2.0, 3.0, 4.0, 5.0], dtype=np.float32)\n",
    "hilbert_result = hilbert_transform(torch.from_numpy(input_signal))\n",
    "hilbert_result2 = hilbert(input_signal)\n",
    "\n",
    "print(\"Input Signal:\", input_signal)\n",
    "print(\"Hilbert Transform:\", hilbert_result)\n",
    "print(\"Hilbert Transform:\", hilbert_result2)"
   ]
  },
  {
   "cell_type": "code",
   "execution_count": null,
   "metadata": {},
   "outputs": [],
   "source": [
    "Xa = hilbert_transform(X)\n",
    "f_inst = est_finst(Xa) * (fs / (2 * np.pi))\n",
    "fig, ax = plt.subplots(1)\n",
    "ax.pcolor(f_inst)\n",
    "plt.show()"
   ]
  },
  {
   "cell_type": "code",
   "execution_count": 1,
   "metadata": {},
   "outputs": [],
   "source": [
    "import glob\n",
    "import matplotlib.pyplot as plt\n",
    "import pickle\n",
    "import os\n",
    "import torch\n",
    "\n",
    "\n",
    "data_path = r\"/media/avi/54561652561635681/datasets/ARCTIC\"\n",
    "fnames = glob.glob(data_path + '/**/wav/*.wav')\n",
    "fnames = [f for f in fnames if os.path.isfile(f)]\n",
    "speakers = list(set([f.split('/')[-3].split('_')[-2] for f in fnames]))\n",
    "\n",
    "with open(\"../hubert0.5.pkl\", 'rb') as f:   # google colab\n",
    "    hubert_units05 = pickle.load(f)\n",
    "\n",
    "res05 = {}\n",
    "for s in speakers:\n",
    "    res05[s] = torch.tensor([u.std()for u in hubert_units05[s]]).mean()\n",
    "\n",
    "del hubert_units05"
   ]
  },
  {
   "cell_type": "code",
   "execution_count": 3,
   "metadata": {},
   "outputs": [],
   "source": [
    "with open(\"../hubert1.pkl\", 'rb') as f:   # google colab\n",
    "    hubert_units1 = pickle.load(f)\n",
    "\n",
    "res1 = {}\n",
    "for s in speakers:\n",
    "    res1[s] = torch.tensor([u[0].std()for u in hubert_units1[s]]).mean()\n",
    "\n",
    "del hubert_units1"
   ]
  },
  {
   "cell_type": "code",
   "execution_count": 4,
   "metadata": {},
   "outputs": [],
   "source": [
    "with open(\"../hubert4.pkl\", 'rb') as f:   # google colab\n",
    "    hubert_units4 = pickle.load(f)\n",
    "    \n",
    "res4 = {}\n",
    "for s in speakers:\n",
    "    res4[s] = torch.tensor([u[0].std()for u in hubert_units4[s]]).mean()"
   ]
  },
  {
   "cell_type": "code",
   "execution_count": 5,
   "metadata": {},
   "outputs": [
    {
     "data": {
      "image/png": "[encoded data removed]",
      "text/plain": [
       "<Figure size 640x480 with 1 Axes>"
      ]
     },
     "metadata": {},
     "output_type": "display_data"
    }
   ],
   "source": [
    "plt.plot(res05.values(), 'b.')\n",
    "plt.plot(res1.values(), 'go')\n",
    "plt.plot(res4.values(), 'rx')\n",
    "plt.grid(True)\n",
    "plt.show()"
   ]
  },
  {
   "cell_type": "code",
   "execution_count": 11,
   "metadata": {},
   "outputs": [
    {
     "data": {
      "text/plain": [
       "(tensor(0.0075), tensor(0.0067), tensor(0.0036))"
      ]
     },
     "execution_count": 11,
     "metadata": {},
     "output_type": "execute_result"
    }
   ],
   "source": [
    "torch.tensor(list(res05.values())).std(), torch.tensor(list(res1.values())).std(), torch.tensor(list(res4.values())).std()"
   ]
  }
 ],
 "metadata": {
  "kernelspec": {
   "display_name": "venv",
   "language": "python",
   "name": "python3"
  },
  "language_info": {
   "codemirror_mode": {
    "name": "ipython",
    "version": 3
   },
   "file_extension": ".py",
   "mimetype": "text/x-python",
   "name": "python",
   "nbconvert_exporter": "python",
   "pygments_lexer": "ipython3",
   "version": "3.8.13"
  },
  "orig_nbformat": 4
 },
 "nbformat": 4,
 "nbformat_minor": 2
}
